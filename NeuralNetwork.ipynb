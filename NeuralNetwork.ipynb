{
  "nbformat": 4,
  "nbformat_minor": 0,
  "metadata": {
    "colab": {
      "provenance": [],
      "authorship_tag": "ABX9TyO3lZ68/iw3bAt6GzrEFikv",
      "include_colab_link": true
    },
    "kernelspec": {
      "name": "python3",
      "display_name": "Python 3"
    },
    "language_info": {
      "name": "python"
    }
  },
  "cells": [
    {
      "cell_type": "markdown",
      "metadata": {
        "id": "view-in-github",
        "colab_type": "text"
      },
      "source": [
        "<a href=\"https://colab.research.google.com/github/datapirate09/Neural-Network-Builder/blob/main/NeuralNetwork.ipynb\" target=\"_parent\"><img src=\"https://colab.research.google.com/assets/colab-badge.svg\" alt=\"Open In Colab\"/></a>"
      ]
    },
    {
      "cell_type": "code",
      "source": [
        "import numpy as np\n",
        "import time\n",
        "import random"
      ],
      "metadata": {
        "id": "po-GlxcIpAYb"
      },
      "execution_count": 3,
      "outputs": []
    },
    {
      "cell_type": "code",
      "execution_count": 10,
      "metadata": {
        "id": "xqaLhvrsXytC"
      },
      "outputs": [],
      "source": [
        "class NeuralNetwork:\n",
        "  def __init__(self, layers, activation='sigmoid'):\n",
        "    #layers is a list of elements where each element shows no of neurons in that layer\n",
        "    self.no_of_layers = len(layers)\n",
        "    self.sizes = layers\n",
        "    self.weights = [np.random.randn(y, x) for x, y in zip(layers[:-1], layers[1:])]\n",
        "    self.biases = [np.random.randn(y,1) for y in layers[1:]]\n",
        "    self.activation = activation\n",
        "\n",
        "\n",
        "  def get_shape_of_weights(self):\n",
        "    for i,layer in enumerate(self.weights):\n",
        "      print(f\"Layer {i} has shape {layer.shape}\")\n",
        "\n",
        "\n",
        "  def get_shape_of_bias(self):\n",
        "    for i,layer in enumerate(self.biases):\n",
        "      print(f\"Layer {i} has shape {layer.shape}\")\n",
        "\n",
        "\n",
        "  def sigmoid(self, z):\n",
        "    return 1.0/(1.0+np.exp(-z))\n",
        "\n",
        "\n",
        "  def sigmoid_derivative(self, z):\n",
        "    return self.sigmoid(z)*(1-self.sigmoid(z))\n",
        "\n",
        "\n",
        "  def activation_function(self,activation_input):\n",
        "    if self.activation == 'sigmoid':\n",
        "      return self.sigmoid(activation_input)\n",
        "\n",
        "\n",
        "  def activation_function_derivative(self, activation_input):\n",
        "    if self.activation == 'sigmoid':\n",
        "      return self.sigmoid_derivative(activation_input)\n",
        "\n",
        "\n",
        "  def forward_propagation(self, a):\n",
        "    for i in range(self.no_of_layers-1):\n",
        "      a = self.activation_function(np.dot(self.weights[i],a) + self.biases[i])\n",
        "    return a\n",
        "\n",
        "\n",
        "  def update_weights_and_biases(self, input_data, batch_size=10, learning_rate=3.0):\n",
        "    random.shuffle(input_data)\n",
        "    mini_batches = [input_data[k:k+batch_size] for k in range(0, len(input_data), batch_size)]\n",
        "    for batch in mini_batches:\n",
        "        self.update_mini_batch(batch, learning_rate)\n",
        "\n",
        "\n",
        "  def update_mini_batch(self, mini_batch, learning_rate=3.0):\n",
        "    b_diff = [np.zeros(b.shape) for b in self.biases]\n",
        "    w_diff = [np.zeros(w.shape) for w in self.weights]\n",
        "    for data_item in mini_batch:\n",
        "        x, y = data_item  # training input and label\n",
        "        activations, z_vector = self.get_activations(x)\n",
        "        b_error, w_error = self.back_propagation(activations, z_vector, y)\n",
        "        b_diff = [bd + be for bd, be in zip(b_diff, b_error)]\n",
        "        w_diff = [wd + we for wd, we in zip(w_diff, w_error)]\n",
        "\n",
        "    self.weights = [w - (learning_rate / len(mini_batch)) * nw\n",
        "                    for w, nw in zip(self.weights, w_diff)]\n",
        "    self.biases = [b - (learning_rate / len(mini_batch)) * nb\n",
        "                   for b, nb in zip(self.biases, b_diff)]\n",
        "\n",
        "\n",
        "  def get_activations(self, input_data):\n",
        "    activation = input_data.reshape(-1, 1)  # Ensure it's a column vector\n",
        "    activations = [activation]\n",
        "    z_vector = []\n",
        "\n",
        "    for b, w in zip(self.biases, self.weights):\n",
        "        z = np.dot(w, activation) + b\n",
        "        z_vector.append(z)\n",
        "        activation = self.activation_function(z)\n",
        "        activations.append(activation)\n",
        "\n",
        "    return activations, z_vector\n",
        "\n",
        "\n",
        "\n",
        "  def cost_derivative(self, output_activations, y):\n",
        "        return (output_activations-y)\n",
        "\n",
        "\n",
        "  def back_propagation(self, activations, z_vector, y):\n",
        "    b_error = [np.zeros(b.shape) for b in self.biases]\n",
        "    w_error = [np.zeros(w.shape) for w in self.weights]\n",
        "    delta = self.cost_derivative(activations[-1], y) * self.activation_function_derivative(z_vector[-1])\n",
        "    b_error[-1] = delta\n",
        "    w_error[-1] = np.dot(delta, activations[-2].transpose())\n",
        "    for l in range(2, self.no_of_layers):\n",
        "        z = z_vector[-l]\n",
        "        sp = self.activation_function_derivative(z)\n",
        "        delta = np.dot(self.weights[-l+1].transpose(), delta) * sp\n",
        "        b_error[-l] = delta\n",
        "        w_error[-l] = np.dot(delta, activations[-l-1].transpose())\n",
        "    return (b_error, w_error)\n",
        "\n",
        "\n",
        "  def fit(self, training_data, training_labels, validation_data=None, validation_labels=None, epochs=20, batch_size = 10, learning_rate = 3.0, callbacks=None):\n",
        "    n = len(training_data)\n",
        "    training_data_combined = list(zip(training_data, training_labels))\n",
        "    if validation_data != None and validation_labels != None:\n",
        "      validation_data_combined = list(zip(validation_data, validation_labels))\n",
        "    early_stopping = None\n",
        "    model_check_point = None\n",
        "    for cb in callbacks:\n",
        "      if isinstance(cb, EarlyStopping):\n",
        "        early_stopping = cb\n",
        "      if isinstance(cb, ModelCheckPoint):\n",
        "        model_check_point = cb\n",
        "    for iteration in range(epochs):\n",
        "      start_time = time.time()\n",
        "      self.update_weights_and_biases(training_data_combined, batch_size, learning_rate)\n",
        "      accuracy, loss = self.evaluate(training_data_combined)\n",
        "      logs = {\"accuracy\": accuracy, \"loss\": loss}\n",
        "      duration = time.time() - start_time\n",
        "      if validation_data != None and validation_labels != None:\n",
        "        val_accuracy, val_loss = self.evaluate(validation_data_combined)\n",
        "        logs[\"val_accuracy\"] = val_accuracy\n",
        "        logs[\"val_loss\"] = val_loss\n",
        "        print(f\"{n}/{n} ━━━━━━━━━━━━━━━━━━━━ {duration:.0f}s  - accuracy: {accuracy:.4f} - loss: {loss:.4f} - val_accuracy: {val_accuracy:.4f} - val_loss: {val_loss:.4f}\")\n",
        "      else:\n",
        "        print(f\"{n}/{n} ━━━━━━━━━━━━━━━━━━━━ {duration:.0f}s  - accuracy: {accuracy:.4f} - loss: {loss:.4f}\")\n",
        "      if early_stopping:\n",
        "        early_stopping.on_epoch_end(iteration, logs)\n",
        "        if early_stopping.stop_training:\n",
        "            break\n",
        "      if model_check_point:\n",
        "        model_check_point.on_epoch_end(iteration, logs)\n",
        "        if model_check_point.show_check_point:\n",
        "          best_epoch_details = model_check_point.get_best_epoch_details()\n",
        "          print(f\"accuracy: {best_epoch_details['accuracy']:.4f} - loss: {best_epoch_details['loss']:.4f} - val_accuracy: {best_epoch_details['val_accuracy']:.4f} - val_loss: {best_epoch_details['val_loss']:.4f}\")\n",
        "\n",
        "\n",
        "  def evaluate(self, data):\n",
        "    correct = 0\n",
        "    total_loss = 0\n",
        "    for x, y in data:\n",
        "        output = self.forward_propagation(x)\n",
        "        predicted = np.argmax(output)\n",
        "        actual = np.argmax(y)\n",
        "        if predicted == actual:\n",
        "            correct += 1\n",
        "        total_loss += np.sum((output - y) ** 2)\n",
        "    accuracy = correct / len(data)\n",
        "    avg_loss = total_loss / len(data)\n",
        "    return accuracy, avg_loss\n",
        "\n",
        "\n",
        "  def predict(self, data):\n",
        "    predictions = []\n",
        "    for item in data:\n",
        "      predictions.append(self.forward_propagation(item))\n",
        "    return predictions\n",
        "\n",
        "\n",
        "class EarlyStopping:\n",
        "  def __init__(self, monitor='val_loss', patience=0):\n",
        "    self.patience = patience\n",
        "    self.current_count = 0\n",
        "    self.monitor = monitor\n",
        "    self.best_value = None\n",
        "    self.stop_training = False\n",
        "\n",
        "  def on_epoch_end(self, epoch, epoch_info):\n",
        "    current = epoch_info.get(self.monitor)\n",
        "    if current is None:\n",
        "      return\n",
        "    if self.best_value == None or current < self.best_value:\n",
        "      self.best_value = current\n",
        "      self.current_count = 0\n",
        "    else:\n",
        "      self.current_count += 1\n",
        "      if self.current_count > self.patience:\n",
        "        self.stop_training = True\n",
        "\n",
        "\n",
        "class ModelCheckPoint:\n",
        "  def __init__(self, monitor='val_loss'):\n",
        "    self.monitor = monitor\n",
        "    self.show_check_point = False\n",
        "    self.previous_best = None\n",
        "    self.improved_epoch_details = []\n",
        "  def on_epoch_end(self, epoch, epoch_info):\n",
        "    current = epoch_info.get(self.monitor)\n",
        "    if self.previous_best == None or current < self.previous_best:\n",
        "      self.previous_best = current\n",
        "      self.store_epoch_details(epoch_info)\n",
        "      self.show_check_point = True\n",
        "    else:\n",
        "      self.show_check_point = False\n",
        "  def store_epoch_details(self, epoch_info):\n",
        "    self.improved_epoch_details.append(epoch_info)\n",
        "  def get_best_epoch_details(self):\n",
        "    return self.improved_epoch_details[-1]\n"
      ]
    },
    {
      "cell_type": "code",
      "source": [],
      "metadata": {
        "id": "4pw7FOzTq5FE"
      },
      "execution_count": null,
      "outputs": []
    },
    {
      "cell_type": "code",
      "source": [
        "!wget https://github.com/mnielsen/neural-networks-and-deep-learning/raw/master/data/mnist.pkl.gz -O mnist.pkl.gz\n"
      ],
      "metadata": {
        "colab": {
          "base_uri": "https://localhost:8080/"
        },
        "id": "bceijdXIYJ_i",
        "outputId": "b51d0050-7c47-4b34-cb4d-89bb4f0d97d1"
      },
      "execution_count": 11,
      "outputs": [
        {
          "output_type": "stream",
          "name": "stdout",
          "text": [
            "--2025-04-07 16:36:49--  https://github.com/mnielsen/neural-networks-and-deep-learning/raw/master/data/mnist.pkl.gz\n",
            "Resolving github.com (github.com)... 140.82.112.4\n",
            "Connecting to github.com (github.com)|140.82.112.4|:443... connected.\n",
            "HTTP request sent, awaiting response... 302 Found\n",
            "Location: https://raw.githubusercontent.com/mnielsen/neural-networks-and-deep-learning/master/data/mnist.pkl.gz [following]\n",
            "--2025-04-07 16:36:49--  https://raw.githubusercontent.com/mnielsen/neural-networks-and-deep-learning/master/data/mnist.pkl.gz\n",
            "Resolving raw.githubusercontent.com (raw.githubusercontent.com)... 185.199.108.133, 185.199.109.133, 185.199.110.133, ...\n",
            "Connecting to raw.githubusercontent.com (raw.githubusercontent.com)|185.199.108.133|:443... connected.\n",
            "HTTP request sent, awaiting response... 200 OK\n",
            "Length: 17051982 (16M) [application/octet-stream]\n",
            "Saving to: ‘mnist.pkl.gz’\n",
            "\n",
            "mnist.pkl.gz        100%[===================>]  16.26M  --.-KB/s    in 0.1s    \n",
            "\n",
            "2025-04-07 16:36:49 (124 MB/s) - ‘mnist.pkl.gz’ saved [17051982/17051982]\n",
            "\n"
          ]
        }
      ]
    },
    {
      "cell_type": "code",
      "source": [],
      "metadata": {
        "id": "IBdZbdYnIaYp"
      },
      "execution_count": null,
      "outputs": []
    },
    {
      "cell_type": "code",
      "source": [
        "import gzip\n",
        "import pickle\n",
        "\n",
        "file_path = \"mnist.pkl.gz\"\n",
        "\n",
        "with gzip.open(file_path, 'rb') as f:\n",
        "    mnist_data = pickle.load(f, encoding='latin1')\n",
        "\n",
        "training_data, validation_data, test_data = mnist_data\n",
        "print(training_data[0].shape)\n",
        "print(training_data[1].shape)\n",
        "\n",
        "def vectorized_label(j):\n",
        "    e = np.zeros((10, 1))\n",
        "    e[j] = 1.0\n",
        "    return e\n",
        "\n",
        "X_train = [x.reshape(-1, 1) for x in training_data[0]]\n",
        "y_train = [vectorized_label(y) for y in training_data[1]]\n",
        "\n",
        "X_val = [x.reshape(-1, 1) for x in validation_data[0]]\n",
        "y_val = [vectorized_label(y) for y in validation_data[1]]"
      ],
      "metadata": {
        "colab": {
          "base_uri": "https://localhost:8080/"
        },
        "id": "1qDiZDPkY9z8",
        "outputId": "6995f2c5-f4e0-4fa3-a0b0-be38f9d6c392"
      },
      "execution_count": 12,
      "outputs": [
        {
          "output_type": "stream",
          "name": "stdout",
          "text": [
            "(50000, 784)\n",
            "(50000,)\n"
          ]
        }
      ]
    },
    {
      "cell_type": "code",
      "source": [
        "model = NeuralNetwork([784,30,10])"
      ],
      "metadata": {
        "id": "5tmOoXc8IeNX"
      },
      "execution_count": 13,
      "outputs": []
    },
    {
      "cell_type": "code",
      "source": [
        "early_stopping = EarlyStopping(monitor='val_loss', patience=3)\n",
        "model_check_point = ModelCheckPoint(monitor='val_loss')\n",
        "model.fit(X_train, y_train, X_val, y_val, callbacks=[early_stopping,model_check_point])\n"
      ],
      "metadata": {
        "colab": {
          "base_uri": "https://localhost:8080/"
        },
        "id": "gQGxRFfFIkHu",
        "outputId": "0f3a93ff-b2e4-4c89-fe8c-04b6969aeec5"
      },
      "execution_count": 15,
      "outputs": [
        {
          "output_type": "stream",
          "name": "stdout",
          "text": [
            "50000/50000 ━━━━━━━━━━━━━━━━━━━━ 10s  - accuracy: 0.9136 - loss: 0.1463 - val_accuracy: 0.9165 - val_loss: 0.1396\n",
            "accuracy: 0.9136 - loss: 0.1463 - val_accuracy: 0.9165 - val_loss: 0.1396\n",
            "50000/50000 ━━━━━━━━━━━━━━━━━━━━ 10s  - accuracy: 0.9287 - loss: 0.1193 - val_accuracy: 0.9283 - val_loss: 0.1193\n",
            "accuracy: 0.9287 - loss: 0.1193 - val_accuracy: 0.9283 - val_loss: 0.1193\n",
            "50000/50000 ━━━━━━━━━━━━━━━━━━━━ 9s  - accuracy: 0.9355 - loss: 0.1089 - val_accuracy: 0.9328 - val_loss: 0.1107\n",
            "accuracy: 0.9355 - loss: 0.1089 - val_accuracy: 0.9328 - val_loss: 0.1107\n",
            "50000/50000 ━━━━━━━━━━━━━━━━━━━━ 9s  - accuracy: 0.9447 - loss: 0.0937 - val_accuracy: 0.9403 - val_loss: 0.0997\n",
            "accuracy: 0.9447 - loss: 0.0937 - val_accuracy: 0.9403 - val_loss: 0.0997\n",
            "50000/50000 ━━━━━━━━━━━━━━━━━━━━ 10s  - accuracy: 0.9449 - loss: 0.0949 - val_accuracy: 0.9381 - val_loss: 0.1032\n",
            "50000/50000 ━━━━━━━━━━━━━━━━━━━━ 10s  - accuracy: 0.9510 - loss: 0.0821 - val_accuracy: 0.9449 - val_loss: 0.0923\n",
            "accuracy: 0.9510 - loss: 0.0821 - val_accuracy: 0.9449 - val_loss: 0.0923\n",
            "50000/50000 ━━━━━━━━━━━━━━━━━━━━ 9s  - accuracy: 0.9535 - loss: 0.0777 - val_accuracy: 0.9464 - val_loss: 0.0887\n",
            "accuracy: 0.9535 - loss: 0.0777 - val_accuracy: 0.9464 - val_loss: 0.0887\n",
            "50000/50000 ━━━━━━━━━━━━━━━━━━━━ 9s  - accuracy: 0.9542 - loss: 0.0796 - val_accuracy: 0.9462 - val_loss: 0.0926\n",
            "50000/50000 ━━━━━━━━━━━━━━━━━━━━ 10s  - accuracy: 0.9532 - loss: 0.0788 - val_accuracy: 0.9473 - val_loss: 0.0899\n",
            "50000/50000 ━━━━━━━━━━━━━━━━━━━━ 9s  - accuracy: 0.9605 - loss: 0.0679 - val_accuracy: 0.9508 - val_loss: 0.0837\n",
            "accuracy: 0.9605 - loss: 0.0679 - val_accuracy: 0.9508 - val_loss: 0.0837\n",
            "50000/50000 ━━━━━━━━━━━━━━━━━━━━ 9s  - accuracy: 0.9578 - loss: 0.0719 - val_accuracy: 0.9474 - val_loss: 0.0888\n",
            "50000/50000 ━━━━━━━━━━━━━━━━━━━━ 9s  - accuracy: 0.9623 - loss: 0.0664 - val_accuracy: 0.9522 - val_loss: 0.0829\n",
            "accuracy: 0.9623 - loss: 0.0664 - val_accuracy: 0.9522 - val_loss: 0.0829\n",
            "50000/50000 ━━━━━━━━━━━━━━━━━━━━ 10s  - accuracy: 0.9630 - loss: 0.0636 - val_accuracy: 0.9516 - val_loss: 0.0839\n",
            "50000/50000 ━━━━━━━━━━━━━━━━━━━━ 10s  - accuracy: 0.9643 - loss: 0.0617 - val_accuracy: 0.9519 - val_loss: 0.0831\n",
            "50000/50000 ━━━━━━━━━━━━━━━━━━━━ 9s  - accuracy: 0.9655 - loss: 0.0594 - val_accuracy: 0.9518 - val_loss: 0.0820\n",
            "accuracy: 0.9655 - loss: 0.0594 - val_accuracy: 0.9518 - val_loss: 0.0820\n",
            "50000/50000 ━━━━━━━━━━━━━━━━━━━━ 9s  - accuracy: 0.9673 - loss: 0.0572 - val_accuracy: 0.9536 - val_loss: 0.0803\n",
            "accuracy: 0.9673 - loss: 0.0572 - val_accuracy: 0.9536 - val_loss: 0.0803\n",
            "50000/50000 ━━━━━━━━━━━━━━━━━━━━ 10s  - accuracy: 0.9663 - loss: 0.0574 - val_accuracy: 0.9517 - val_loss: 0.0820\n",
            "50000/50000 ━━━━━━━━━━━━━━━━━━━━ 10s  - accuracy: 0.9682 - loss: 0.0547 - val_accuracy: 0.9530 - val_loss: 0.0813\n",
            "50000/50000 ━━━━━━━━━━━━━━━━━━━━ 9s  - accuracy: 0.9668 - loss: 0.0590 - val_accuracy: 0.9517 - val_loss: 0.0853\n",
            "50000/50000 ━━━━━━━━━━━━━━━━━━━━ 9s  - accuracy: 0.9705 - loss: 0.0531 - val_accuracy: 0.9537 - val_loss: 0.0819\n"
          ]
        }
      ]
    },
    {
      "cell_type": "code",
      "source": [
        "X_test = [x.reshape(-1, 1) for x in test_data[0]]\n",
        "y_test = [vectorized_label(y) for y in test_data[1]]\n",
        "testing_data_combined = list(zip(X_test, y_test))\n",
        "\n",
        "accuracy, avg_loss = model.evaluate(testing_data_combined)\n",
        "print(accuracy)\n",
        "print(avg_loss)\n",
        "\n",
        "predictions = model.predict(X_test)\n",
        "print(predictions[0])\n"
      ],
      "metadata": {
        "id": "lVA16rKLPukc",
        "outputId": "abb22a09-2930-4446-cbf3-365ccc6f24e0",
        "colab": {
          "base_uri": "https://localhost:8080/"
        }
      },
      "execution_count": 9,
      "outputs": [
        {
          "output_type": "stream",
          "name": "stdout",
          "text": [
            "0.9429\n",
            "0.09415478334754462\n",
            "[[1.71364994e-06]\n",
            " [2.36814271e-08]\n",
            " [6.89708166e-07]\n",
            " [7.66631390e-06]\n",
            " [6.93306109e-08]\n",
            " [1.21063479e-08]\n",
            " [1.71949977e-12]\n",
            " [9.99832671e-01]\n",
            " [5.54620956e-10]\n",
            " [1.13528195e-04]]\n"
          ]
        }
      ]
    },
    {
      "cell_type": "code",
      "source": [
        "import tensorflow\n",
        "from tensorflow.keras.datasets import fashion_mnist\n",
        "import numpy as np\n",
        "\n",
        "def vectorized_label(j):\n",
        "    e = np.zeros((10, 1))\n",
        "    e[j] = 1.0\n",
        "    return e\n",
        "\n",
        "(X_train_tf, y_train_tf), (X_test_tf, y_test_tf) = fashion_mnist.load_data()\n",
        "\n",
        "X_train_tf = [x.reshape(-1, 1) / 255.0 for x in X_train_tf]\n",
        "y_train_tf = [vectorized_label(y) for y in y_train_tf]\n",
        "\n",
        "X_test_tf = [x.reshape(-1, 1) / 255.0 for x in X_test_tf]\n",
        "y_test = [vectorized_label(y) for y in y_test_tf]\n",
        "\n",
        "model = NeuralNetwork([784, 64, 10])\n",
        "model.fit(X_train_tf, y_train_tf, epochs=10, batch_size=32, learning_rate=3.0)\n",
        "\n",
        "\n",
        "\n"
      ],
      "metadata": {
        "id": "o6JwzlVgMUMN",
        "outputId": "4770eea8-58d9-4a16-c304-687c8ac97ed1",
        "colab": {
          "base_uri": "https://localhost:8080/"
        }
      },
      "execution_count": null,
      "outputs": [
        {
          "output_type": "stream",
          "name": "stdout",
          "text": [
            "60000/60000 ━━━━━━━━━━━━━━━━━━━━ 17s  - accuracy: 0.7493 - loss: 0.3547\n",
            "60000/60000 ━━━━━━━━━━━━━━━━━━━━ 17s  - accuracy: 0.7744 - loss: 0.3132\n",
            "60000/60000 ━━━━━━━━━━━━━━━━━━━━ 17s  - accuracy: 0.7856 - loss: 0.3009\n",
            "60000/60000 ━━━━━━━━━━━━━━━━━━━━ 17s  - accuracy: 0.7882 - loss: 0.2916\n",
            "60000/60000 ━━━━━━━━━━━━━━━━━━━━ 17s  - accuracy: 0.7971 - loss: 0.2780\n",
            "60000/60000 ━━━━━━━━━━━━━━━━━━━━ 17s  - accuracy: 0.7972 - loss: 0.2803\n",
            "60000/60000 ━━━━━━━━━━━━━━━━━━━━ 17s  - accuracy: 0.8072 - loss: 0.2646\n",
            "60000/60000 ━━━━━━━━━━━━━━━━━━━━ 17s  - accuracy: 0.8101 - loss: 0.2587\n",
            "60000/60000 ━━━━━━━━━━━━━━━━━━━━ 17s  - accuracy: 0.8092 - loss: 0.2620\n",
            "60000/60000 ━━━━━━━━━━━━━━━━━━━━ 17s  - accuracy: 0.8123 - loss: 0.2603\n"
          ]
        }
      ]
    },
    {
      "cell_type": "code",
      "source": [
        "testing_data_combined = list(zip(X_test_tf, y_test))\n",
        "\n",
        "accuracy, avg_loss = model.evaluate(testing_data_combined)\n",
        "print(accuracy)\n",
        "print(avg_loss)"
      ],
      "metadata": {
        "id": "-rCiJ3oHSHSd",
        "outputId": "721d3180-c9c9-4fa4-a52f-7d74f645ead2",
        "colab": {
          "base_uri": "https://localhost:8080/"
        }
      },
      "execution_count": null,
      "outputs": [
        {
          "output_type": "stream",
          "name": "stdout",
          "text": [
            "0.7957\n",
            "0.28854674926965623\n"
          ]
        }
      ]
    }
  ]
}